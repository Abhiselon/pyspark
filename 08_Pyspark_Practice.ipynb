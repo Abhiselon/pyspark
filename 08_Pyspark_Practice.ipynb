{
 "cells": [
  {
   "cell_type": "code",
   "execution_count": 3,
   "id": "443daa54-ab9f-4d5d-b471-6599bb8a711d",
   "metadata": {},
   "outputs": [],
   "source": [
    "from pyspark.sql import SparkSession"
   ]
  },
  {
   "cell_type": "code",
   "execution_count": 4,
   "id": "8ebb034b-0f5d-43f4-9500-c34b4dedfeb0",
   "metadata": {},
   "outputs": [],
   "source": [
    "spark = SparkSession.builder.appName(\"Practice\").getOrCreate()"
   ]
  },
  {
   "cell_type": "code",
   "execution_count": 8,
   "id": "eb345f83-4d53-46d6-9ed6-38df941e05cf",
   "metadata": {},
   "outputs": [],
   "source": [
    "df = spark.read.csv(\"data/reported_crimes.csv\",inferSchema=True,header=True)"
   ]
  },
  {
   "cell_type": "code",
   "execution_count": 9,
   "id": "86673e56-2f14-4aec-9dc5-7e96b3289826",
   "metadata": {},
   "outputs": [
    {
     "name": "stdout",
     "output_type": "stream",
     "text": [
      "+--------+-----------+--------------------+--------------------+----+------------------+--------------------+--------------------+------+--------+----+--------+----+--------------+--------+------------+------------+----+--------------------+--------+---------+--------+\n",
      "|      ID|Case Number|                Date|               Block|IUCR|      Primary Type|         Description|Location Description|Arrest|Domestic|Beat|District|Ward|Community Area|FBI Code|X Coordinate|Y Coordinate|Year|          Updated On|Latitude|Longitude|Location|\n",
      "+--------+-----------+--------------------+--------------------+----+------------------+--------------------+--------------------+------+--------+----+--------+----+--------------+--------+------------+------------+----+--------------------+--------+---------+--------+\n",
      "|11037294|   JA371270|03/18/2015 12:00:...|   0000X W WACKER DR|1153|DECEPTIVE PRACTICE|FINANCIAL IDENTIT...|                BANK| false|   false| 111|       1|  42|            32|      11|        NULL|        NULL|2015|08/01/2017 03:52:...|    NULL|     NULL|    NULL|\n",
      "|11646293|   JC213749|12/20/2018 03:00:...|023XX N LOCKWOOD AVE|1154|DECEPTIVE PRACTICE|FINANCIAL IDENTIT...|           APARTMENT| false|   false|2515|      25|  36|            19|      11|        NULL|        NULL|2018|04/06/2019 04:04:...|    NULL|     NULL|    NULL|\n",
      "|11645836|   JC212333|05/01/2016 12:25:...| 055XX S ROCKWELL ST|1153|DECEPTIVE PRACTICE|FINANCIAL IDENTIT...|                NULL| false|   false| 824|       8|  15|            63|      11|        NULL|        NULL|2016|04/06/2019 04:04:...|    NULL|     NULL|    NULL|\n",
      "|11645959|   JC211511|12/20/2018 04:00:...|  045XX N ALBANY AVE|2820|     OTHER OFFENSE|    TELEPHONE THREAT|           RESIDENCE| false|   false|1724|      17|  33|            14|     08A|        NULL|        NULL|2018|04/06/2019 04:04:...|    NULL|     NULL|    NULL|\n",
      "|11645601|   JC212935|06/01/2014 12:01:...| 087XX S SANGAMON ST|1153|DECEPTIVE PRACTICE|FINANCIAL IDENTIT...|           RESIDENCE| false|   false|2222|      22|  21|            71|      11|        NULL|        NULL|2014|04/06/2019 04:04:...|    NULL|     NULL|    NULL|\n",
      "+--------+-----------+--------------------+--------------------+----+------------------+--------------------+--------------------+------+--------+----+--------+----+--------------+--------+------------+------------+----+--------------------+--------+---------+--------+\n",
      "only showing top 5 rows\n",
      "\n"
     ]
    }
   ],
   "source": [
    "df.show(5)"
   ]
  },
  {
   "cell_type": "code",
   "execution_count": 12,
   "id": "006c3bc1-6208-4f9c-8bc4-dedcc8552706",
   "metadata": {},
   "outputs": [
    {
     "name": "stdout",
     "output_type": "stream",
     "text": [
      "+------+\n",
      "|arrest|\n",
      "+------+\n",
      "| false|\n",
      "| false|\n",
      "+------+\n",
      "only showing top 2 rows\n",
      "\n"
     ]
    }
   ],
   "source": [
    "df.select('arrest').show(2)"
   ]
  },
  {
   "cell_type": "code",
   "execution_count": 27,
   "id": "a17417bc-4f7e-4220-a7fc-a7b4d5189e4d",
   "metadata": {},
   "outputs": [],
   "source": [
    "Total_arrest = df.filter('arrest').count()"
   ]
  },
  {
   "cell_type": "code",
   "execution_count": 28,
   "id": "6d23bc0c-a189-4977-92d8-ba75cf9c398d",
   "metadata": {},
   "outputs": [
    {
     "data": {
      "text/plain": [
       "1405198"
      ]
     },
     "execution_count": 28,
     "metadata": {},
     "output_type": "execute_result"
    }
   ],
   "source": [
    "Total_crime = df.count()\n",
    "Total_crime"
   ]
  },
  {
   "cell_type": "code",
   "execution_count": 31,
   "id": "de196a05-8bba-476a-8d93-120409fb923a",
   "metadata": {},
   "outputs": [],
   "source": [
    "percentage_of_crime_reported_in_arrest = round((Total_arrest/Total_crime) * 100,2)"
   ]
  },
  {
   "cell_type": "code",
   "execution_count": 32,
   "id": "ef021fa2-3900-4ca9-b186-70ad76ff5488",
   "metadata": {},
   "outputs": [
    {
     "data": {
      "text/plain": [
       "18.45"
      ]
     },
     "execution_count": 32,
     "metadata": {},
     "output_type": "execute_result"
    }
   ],
   "source": [
    "percentage_of_crime_reported_in_arrest"
   ]
  },
  {
   "cell_type": "code",
   "execution_count": 34,
   "id": "abd5fb0e-449d-4c04-9d28-8fc7fb29ba1c",
   "metadata": {},
   "outputs": [],
   "source": [
    "Top3_locations = df.select('Location Description').groupBy('Location Description').count()"
   ]
  },
  {
   "cell_type": "code",
   "execution_count": 37,
   "id": "521f922d-ba79-4543-842f-8f98855ae3b0",
   "metadata": {},
   "outputs": [
    {
     "name": "stdout",
     "output_type": "stream",
     "text": [
      "+--------------------+-----+\n",
      "|Location Description|count|\n",
      "+--------------------+-----+\n",
      "|SCHOOL - PRIVATE ...| 1079|\n",
      "|AIRPORT TERMINAL ...|  689|\n",
      "|VEHICLE - COMMERCIAL|  901|\n",
      "+--------------------+-----+\n",
      "only showing top 3 rows\n",
      "\n"
     ]
    }
   ],
   "source": [
    "Top3_locations.show(3)"
   ]
  },
  {
   "cell_type": "code",
   "execution_count": 38,
   "id": "ee6b1cc6-4b25-455a-b84f-9f7aaee4df58",
   "metadata": {},
   "outputs": [],
   "source": [
    "df.createOrReplaceTempView(\"reported_crimes\")"
   ]
  },
  {
   "cell_type": "code",
   "execution_count": 46,
   "id": "b4ad8156-bff2-4704-a04c-e4f9005031b4",
   "metadata": {},
   "outputs": [],
   "source": [
    "result = spark.sql('select `Location Description` as location, count(`Location Description`) as total_crime from reported_crimes group by `Location Description` limit 3')"
   ]
  },
  {
   "cell_type": "code",
   "execution_count": 57,
   "id": "54c724a3-82e1-4ab5-93e5-a60bdaf87c7a",
   "metadata": {},
   "outputs": [],
   "source": [
    "df.coalesce(1).write.option(\"header\", \"true\").csv(\"sample_file.csv\")"
   ]
  },
  {
   "cell_type": "code",
   "execution_count": 58,
   "id": "8e0479fc-8879-4db4-9f8f-acdd542180e8",
   "metadata": {},
   "outputs": [],
   "source": [
    "result.write.option(\"header\", \"true\").csv(\"top_three_places_in_crime.csv\")"
   ]
  },
  {
   "cell_type": "code",
   "execution_count": 59,
   "id": "822563b2-5141-4df5-bc54-598295c72263",
   "metadata": {},
   "outputs": [
    {
     "name": "stdout",
     "output_type": "stream",
     "text": [
      "root\n",
      " |-- ID: integer (nullable = true)\n",
      " |-- Case Number: string (nullable = true)\n",
      " |-- Date: string (nullable = true)\n",
      " |-- Block: string (nullable = true)\n",
      " |-- IUCR: string (nullable = true)\n",
      " |-- Primary Type: string (nullable = true)\n",
      " |-- Description: string (nullable = true)\n",
      " |-- Location Description: string (nullable = true)\n",
      " |-- Arrest: boolean (nullable = true)\n",
      " |-- Domestic: boolean (nullable = true)\n",
      " |-- Beat: integer (nullable = true)\n",
      " |-- District: integer (nullable = true)\n",
      " |-- Ward: integer (nullable = true)\n",
      " |-- Community Area: integer (nullable = true)\n",
      " |-- FBI Code: string (nullable = true)\n",
      " |-- X Coordinate: integer (nullable = true)\n",
      " |-- Y Coordinate: integer (nullable = true)\n",
      " |-- Year: integer (nullable = true)\n",
      " |-- Updated On: string (nullable = true)\n",
      " |-- Latitude: double (nullable = true)\n",
      " |-- Longitude: double (nullable = true)\n",
      " |-- Location: string (nullable = true)\n",
      "\n"
     ]
    }
   ],
   "source": [
    "df.printSchema()"
   ]
  },
  {
   "cell_type": "code",
   "execution_count": 61,
   "id": "dd0a8612-2192-43bb-96c7-900fa9c644d1",
   "metadata": {},
   "outputs": [
    {
     "name": "stdout",
     "output_type": "stream",
     "text": [
      "+--------+-----------+----------------------+--------------------+----+------------------+---------------------------------------+--------------------+------+--------+----+--------+----+--------------+--------+------------+------------+----+----------------------+--------+---------+--------+\n",
      "|ID      |Case Number|Date                  |Block               |IUCR|Primary Type      |Description                            |Location Description|Arrest|Domestic|Beat|District|Ward|Community Area|FBI Code|X Coordinate|Y Coordinate|Year|Updated On            |Latitude|Longitude|Location|\n",
      "+--------+-----------+----------------------+--------------------+----+------------------+---------------------------------------+--------------------+------+--------+----+--------+----+--------------+--------+------------+------------+----+----------------------+--------+---------+--------+\n",
      "|11037294|JA371270   |03/18/2015 12:00:00 PM|0000X W WACKER DR   |1153|DECEPTIVE PRACTICE|FINANCIAL IDENTITY THEFT OVER $ 300    |BANK                |false |false   |111 |1       |42  |32            |11      |NULL        |NULL        |2015|08/01/2017 03:52:26 PM|NULL    |NULL     |NULL    |\n",
      "|11646293|JC213749   |12/20/2018 03:00:00 PM|023XX N LOCKWOOD AVE|1154|DECEPTIVE PRACTICE|FINANCIAL IDENTITY THEFT $300 AND UNDER|APARTMENT           |false |false   |2515|25      |36  |19            |11      |NULL        |NULL        |2018|04/06/2019 04:04:43 PM|NULL    |NULL     |NULL    |\n",
      "|11645836|JC212333   |05/01/2016 12:25:00 AM|055XX S ROCKWELL ST |1153|DECEPTIVE PRACTICE|FINANCIAL IDENTITY THEFT OVER $ 300    |NULL                |false |false   |824 |8       |15  |63            |11      |NULL        |NULL        |2016|04/06/2019 04:04:43 PM|NULL    |NULL     |NULL    |\n",
      "|11645959|JC211511   |12/20/2018 04:00:00 PM|045XX N ALBANY AVE  |2820|OTHER OFFENSE     |TELEPHONE THREAT                       |RESIDENCE           |false |false   |1724|17      |33  |14            |08A     |NULL        |NULL        |2018|04/06/2019 04:04:43 PM|NULL    |NULL     |NULL    |\n",
      "|11645601|JC212935   |06/01/2014 12:01:00 AM|087XX S SANGAMON ST |1153|DECEPTIVE PRACTICE|FINANCIAL IDENTITY THEFT OVER $ 300    |RESIDENCE           |false |false   |2222|22      |21  |71            |11      |NULL        |NULL        |2014|04/06/2019 04:04:43 PM|NULL    |NULL     |NULL    |\n",
      "+--------+-----------+----------------------+--------------------+----+------------------+---------------------------------------+--------------------+------+--------+----+--------+----+--------------+--------+------------+------------+----+----------------------+--------+---------+--------+\n",
      "only showing top 5 rows\n",
      "\n"
     ]
    }
   ],
   "source": [
    "df.show(5,truncate=False)"
   ]
  }
 ],
 "metadata": {
  "kernelspec": {
   "display_name": "Python 3 (ipykernel)",
   "language": "python",
   "name": "python3"
  },
  "language_info": {
   "codemirror_mode": {
    "name": "ipython",
    "version": 3
   },
   "file_extension": ".py",
   "mimetype": "text/x-python",
   "name": "python",
   "nbconvert_exporter": "python",
   "pygments_lexer": "ipython3",
   "version": "3.11.8"
  }
 },
 "nbformat": 4,
 "nbformat_minor": 5
}
